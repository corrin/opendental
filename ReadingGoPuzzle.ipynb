{
  "nbformat": 4,
  "nbformat_minor": 0,
  "metadata": {
    "colab": {
      "provenance": [],
      "mount_file_id": "1dLiJ3VPW0cvss-NrcrDQJ2KNsCTkrs7S",
      "authorship_tag": "ABX9TyNdFbmoeexO+VU8pVuTJ3DC",
      "include_colab_link": true
    },
    "kernelspec": {
      "name": "python3",
      "display_name": "Python 3"
    },
    "language_info": {
      "name": "python"
    }
  },
  "cells": [
    {
      "cell_type": "markdown",
      "metadata": {
        "id": "view-in-github",
        "colab_type": "text"
      },
      "source": [
        "<a href=\"https://colab.research.google.com/github/corrin/opendental/blob/main/ReadingGoPuzzle.ipynb\" target=\"_parent\"><img src=\"https://colab.research.google.com/assets/colab-badge.svg\" alt=\"Open In Colab\"/></a>"
      ]
    },
    {
      "cell_type": "code",
      "source": [
        "import numpy as np\n",
        "import random\n",
        "import copy\n",
        "import os\n"
      ],
      "metadata": {
        "id": "APYHCk7HWcB8"
      },
      "execution_count": 9,
      "outputs": []
    },
    {
      "cell_type": "code",
      "source": [
        "base_path = \"drive/MyDrive/auto_puzzle/sgf\"\n",
        "\n",
        "if not os.path.exists(base_path):\n",
        "  os.makedirs(base_path)\n"
      ],
      "metadata": {
        "id": "Q1EAM7kFFfdM"
      },
      "execution_count": 10,
      "outputs": []
    },
    {
      "cell_type": "code",
      "source": [
        "\n",
        "class GoBoard:\n",
        "    def __init__(self, size=19):\n",
        "        self.size = size\n",
        "        self.board = np.full((size, size), '.', dtype=str)\n",
        "        self.atari_position = None\n",
        "\n",
        "    def place_stone(self, row, col, color):\n",
        "        if self.board[row, col] == '.':\n",
        "            self.board[row, col] = color\n",
        "            if color == 'W' and self.atari_position is None:  # Track initial White stone in atari\n",
        "                self.atari_position = (row, col)\n",
        "            return True\n",
        "        return False\n",
        "\n",
        "    def random_fill(self, num_stones):\n",
        "        filled = 0\n",
        "        while filled < num_stones:\n",
        "            row, col = np.random.randint(0, self.size, size=2)\n",
        "            if self.place_stone(row, col, np.random.choice(['B', 'W'])):\n",
        "                filled += 1\n",
        "\n",
        "\n",
        "    def place_stone_in_atari(self):\n",
        "        placed = False\n",
        "        while not placed:\n",
        "            # Place the white stone anywhere on the board\n",
        "            row, col = np.random.randint(0, self.size, size=2)\n",
        "            if self.place_stone(row, col, 'W'):\n",
        "                directions = [(-1, 0), (1, 0), (0, -1), (0, 1)]  # Up, Down, Left, Right\n",
        "                np.random.shuffle(directions)  # Shuffle directions\n",
        "\n",
        "                # Try placing black stones in shuffled order and check for exactly one liberty\n",
        "                for dr, dc in directions:\n",
        "                    nr, nc = row + dr, col + dc\n",
        "                    # Check if the new position is within board boundaries\n",
        "                    if 0 <= nr < self.size and 0 <= nc < self.size:\n",
        "                        self.place_stone(nr, nc, 'B')\n",
        "                        if self.count_liberties(row, col) == 1:\n",
        "                            placed = True\n",
        "                            break\n",
        "            else:\n",
        "                # Reset the board if the loop completes without breaking (white stone not in correct atari)\n",
        "                self.reset_board()  # Assumes a method to reset the board state\n",
        "\n",
        "    def count_liberties(self, row, col):\n",
        "        visited, stack = set(), [(row, col)]\n",
        "        liberties = 0\n",
        "        while stack:\n",
        "            r, c = stack.pop()\n",
        "            if (r, c) in visited:\n",
        "                continue\n",
        "            visited.add((r, c))\n",
        "            for dr, dc in [(-1, 0), (1, 0), (0, -1), (0, 1)]:\n",
        "                nr, nc = r + dr, c + dc\n",
        "                if 0 <= nr < self.size and 0 <= nc < self.size and self.board[nr, nc] == '.':\n",
        "                    liberties += 1\n",
        "        return liberties\n",
        "\n",
        "    def evaluate(self):\n",
        "        liberties = self.count_liberties(*self.atari_position)\n",
        "        if liberties == 0:\n",
        "            return -1  # White loses, no liberties\n",
        "        elif liberties >= 4:\n",
        "            return 1   # White wins, 4 or more liberties\n",
        "        return liberties / 4 - 0.5  # Heuristic: normalize and shift for game state evaluation\n",
        "\n",
        "    def is_game_over(self):\n",
        "        liberties = self.count_liberties(*self.atari_position)\n",
        "        if liberties == 0 or liberties >= 4:\n",
        "            return True\n",
        "        return False\n",
        "\n",
        "    def reverse_colors(self):\n",
        "        \"\"\"Reverse the colors on the board.\"\"\"\n",
        "        for r in range(self.size):\n",
        "            for c in range(self.size):\n",
        "                if self.board[r, c] == 'B':\n",
        "                    self.board[r, c] = 'W'\n",
        "                elif self.board[r, c] == 'W':\n",
        "                    self.board[r, c] = 'B'\n",
        "\n",
        "    def to_sgf(self):\n",
        "        to_play = self.board[self.atari_position[0], self.atari_position[1]]\n",
        "        sgf_str = f\"(;GM[1]FF[4]CA[UTF-8]SZ[19]AP[LadderPuzzle:1]PL[{to_play}]\"\n",
        "\n",
        "        black_positions = []\n",
        "        white_positions = []\n",
        "        for r in range(self.size):\n",
        "            for c in range(self.size):\n",
        "                pos = f\"[{chr(c + 97)}{chr(r + 97)}]\"\n",
        "                if self.board[r, c] == 'B':\n",
        "                    black_positions.append(pos)\n",
        "                elif self.board[r, c] == 'W':\n",
        "                    white_positions.append(pos)\n",
        "\n",
        "        # Add all black and white stones at once\n",
        "        if black_positions:\n",
        "            sgf_str += f\";AB{''.join(black_positions)}\"\n",
        "        if white_positions:\n",
        "            sgf_str += f\";AW{''.join(white_positions)}\"\n",
        "\n",
        "        # Mark the initial white stone with a square\n",
        "        if self.atari_position:\n",
        "            r, c = self.atari_position\n",
        "            sgf_str += f\";SQ[{chr(c + 97)}{chr(r + 97)}]\"\n",
        "\n",
        "        sgf_str += \")\\n\"\n",
        "        return sgf_str\n"
      ],
      "metadata": {
        "id": "oPZ80VYdDuwZ"
      },
      "execution_count": 40,
      "outputs": []
    },
    {
      "cell_type": "code",
      "source": [
        "def check_valid_puzzle(board):\n",
        "    # Check if the initial white stone's group is in atari and not captured\n",
        "    if board.count_liberties(*board.atari_position) == 0:\n",
        "        return False  # White stone is captured\n",
        "\n",
        "    # Check entire board for any other stones in atari\n",
        "    for row in range(board.size):\n",
        "        for col in range(board.size):\n",
        "            if (row, col) != board.atari_position and board.board[row, col] != '.':\n",
        "                if board.count_liberties(row, col) == 1:\n",
        "                    return False  # Another stone is in atari\n",
        "\n",
        "    return True  # The puzzle is valid if no other groups are in atari and the initial white stone is not captured\n"
      ],
      "metadata": {
        "id": "iMw7eS9Qup8z"
      },
      "execution_count": 41,
      "outputs": []
    },
    {
      "cell_type": "code",
      "source": [
        "\n",
        "def minimax(board, depth, maximizingPlayer):\n",
        "    if depth == 0 or board.is_game_over():\n",
        "        return board.evaluate(), depth\n",
        "\n",
        "    if maximizingPlayer:\n",
        "        maxEval = float('-inf')\n",
        "        maxDepth = depth\n",
        "        for row in range(board.size):\n",
        "            for col in range(board.size):\n",
        "                if board.place_stone(row, col, 'W'):\n",
        "                    eval, current_depth = minimax(copy.deepcopy(board), depth - 1, False)\n",
        "                    board.board[row, col] = '.'\n",
        "                    if eval > maxEval:\n",
        "                        maxEval = eval\n",
        "                        maxDepth = current_depth\n",
        "        return maxEval, maxDepth\n",
        "    else:\n",
        "        minEval = float('inf')\n",
        "        minDepth = depth\n",
        "        for row in range(board.size):\n",
        "            for col in range(board.size):\n",
        "                if board.place_stone(row, col, 'B'):\n",
        "                    eval, current_depth = minimax(copy.deepcopy(board), depth - 1, True)\n",
        "                    board.board[row, col] = '.'\n",
        "                    if eval < minEval:\n",
        "                        minEval = eval\n",
        "                        minDepth = current_depth\n",
        "        return minEval, minDepth\n",
        "\n"
      ],
      "metadata": {
        "id": "tOrMA42dDyVg"
      },
      "execution_count": 42,
      "outputs": []
    },
    {
      "cell_type": "code",
      "source": [
        "def generate_atari_puzzles(num_puzzles=10):\n",
        "    for _ in range(num_puzzles):\n",
        "        seed = np.random.randint(0, 999999)\n",
        "        np.random.seed(seed)\n",
        "        valid_setup = False\n",
        "        while not valid_setup:\n",
        "            board = GoBoard()\n",
        "            board.place_stone_in_atari()\n",
        "            board.random_fill(50)\n",
        "            valid_setup = check_valid_puzzle(board)\n",
        "#        _, complexity = minimax(board, 10, False)  # Assuming we start with Black to move\n",
        "        if random.choice(['black', 'white']) == 'black':\n",
        "            board.reverse_colors()\n",
        "        sgf_output = board.to_sgf()\n",
        "        filename = os.path.join(base_path,f\"atari_puzzle_seed_{seed}.sgf\")\n",
        "        with open(filename, \"w\") as file:\n",
        "            file.write(sgf_output)\n",
        "        print(f\"SGF for seed {seed} saved.\")\n",
        "\n",
        "generate_atari_puzzles()\n"
      ],
      "metadata": {
        "colab": {
          "base_uri": "https://localhost:8080/"
        },
        "id": "le_8Pd0LEczw",
        "outputId": "b379f943-37c6-4bae-990c-d452d64dc287"
      },
      "execution_count": 43,
      "outputs": [
        {
          "output_type": "stream",
          "name": "stdout",
          "text": [
            "SGF for seed 865392 saved.\n",
            "SGF for seed 619037 saved.\n",
            "SGF for seed 830070 saved.\n",
            "SGF for seed 401844 saved.\n",
            "SGF for seed 959681 saved.\n",
            "SGF for seed 743221 saved.\n",
            "SGF for seed 106123 saved.\n",
            "SGF for seed 174005 saved.\n",
            "SGF for seed 212427 saved.\n",
            "SGF for seed 40750 saved.\n"
          ]
        }
      ]
    },
    {
      "cell_type": "code",
      "source": [
        "!ls drive/MyDrive/auto_puzzle/sgf\n"
      ],
      "metadata": {
        "colab": {
          "base_uri": "https://localhost:8080/"
        },
        "id": "a80TH1LyD1zU",
        "outputId": "734ddcee-1f38-4518-d243-da468d8f49eb"
      },
      "execution_count": 20,
      "outputs": [
        {
          "output_type": "stream",
          "name": "stdout",
          "text": [
            "atari_puzzle_seed_104701.sgf  atari_puzzle_seed_331233.sgf  atari_puzzle_seed_708028.sgf\n",
            "atari_puzzle_seed_137792.sgf  atari_puzzle_seed_370182.sgf  atari_puzzle_seed_72118.sgf\n",
            "atari_puzzle_seed_157935.sgf  atari_puzzle_seed_441490.sgf  atari_puzzle_seed_724771.sgf\n",
            "atari_puzzle_seed_161351.sgf  atari_puzzle_seed_445981.sgf  atari_puzzle_seed_728172.sgf\n",
            "atari_puzzle_seed_208206.sgf  atari_puzzle_seed_457368.sgf  atari_puzzle_seed_745781.sgf\n",
            "atari_puzzle_seed_208648.sgf  atari_puzzle_seed_495146.sgf  atari_puzzle_seed_76365.sgf\n",
            "atari_puzzle_seed_218201.sgf  atari_puzzle_seed_502230.sgf  atari_puzzle_seed_765766.sgf\n",
            "atari_puzzle_seed_218228.sgf  atari_puzzle_seed_531285.sgf  atari_puzzle_seed_793134.sgf\n",
            "atari_puzzle_seed_244330.sgf  atari_puzzle_seed_558036.sgf  atari_puzzle_seed_806329.sgf\n",
            "atari_puzzle_seed_250533.sgf  atari_puzzle_seed_559376.sgf  atari_puzzle_seed_824112.sgf\n",
            "atari_puzzle_seed_254454.sgf  atari_puzzle_seed_56946.sgf   atari_puzzle_seed_824681.sgf\n",
            "atari_puzzle_seed_265548.sgf  atari_puzzle_seed_589695.sgf  atari_puzzle_seed_876835.sgf\n",
            "atari_puzzle_seed_278818.sgf  atari_puzzle_seed_600738.sgf  atari_puzzle_seed_911537.sgf\n",
            "atari_puzzle_seed_282844.sgf  atari_puzzle_seed_60481.sgf   atari_puzzle_seed_913558.sgf\n",
            "atari_puzzle_seed_309002.sgf  atari_puzzle_seed_619473.sgf  atari_puzzle_seed_919109.sgf\n",
            "atari_puzzle_seed_310027.sgf  atari_puzzle_seed_63930.sgf   atari_puzzle_seed_97351.sgf\n",
            "atari_puzzle_seed_323277.sgf  atari_puzzle_seed_689338.sgf\n"
          ]
        }
      ]
    },
    {
      "cell_type": "code",
      "source": [],
      "metadata": {
        "id": "lVpezxKiEywX"
      },
      "execution_count": null,
      "outputs": []
    }
  ]
}